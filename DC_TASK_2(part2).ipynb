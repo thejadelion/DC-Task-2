{
  "cells": [
    {
      "cell_type": "markdown",
      "metadata": {
        "id": "view-in-github",
        "colab_type": "text"
      },
      "source": [
        "<a href=\"https://colab.research.google.com/github/thejadelion/DC-Task-2/blob/main/DC_TASK_2(part2).ipynb\" target=\"_parent\"><img src=\"https://colab.research.google.com/assets/colab-badge.svg\" alt=\"Open In Colab\"/></a>"
      ]
    },
    {
      "cell_type": "code",
      "execution_count": 2,
      "metadata": {
        "id": "pUjKbzN_0tn1"
      },
      "outputs": [],
      "source": [
        "import matplotlib"
      ]
    },
    {
      "cell_type": "code",
      "execution_count": null,
      "metadata": {
        "colab": {
          "base_uri": "https://localhost:8080/",
          "height": 131
        },
        "id": "FXZFun3K0xqJ",
        "outputId": "a9dad310-3df5-44b1-ace0-0bb7f3eee5a9"
      },
      "outputs": [
        {
          "output_type": "error",
          "ename": "SyntaxError",
          "evalue": "ignored",
          "traceback": [
            "\u001b[0;36m  File \u001b[0;32m\"<ipython-input-3-51ca1661a55c>\"\u001b[0;36m, line \u001b[0;32m1\u001b[0m\n\u001b[0;31m    https://github.com/analytics-club-iitm/Summer-School-2022/blob/main/Task_1/data/data.csv\u001b[0m\n\u001b[0m          ^\u001b[0m\n\u001b[0;31mSyntaxError\u001b[0m\u001b[0;31m:\u001b[0m invalid syntax\n"
          ]
        }
      ],
      "source": [
        "https://github.com/analytics-club-iitm/Summer-School-2022/blob/main/Task_1/data/data.csv"
      ]
    },
    {
      "cell_type": "code",
      "source": [
        "import pandas as pd\n",
        "import requests\n",
        "import io\n",
        "\n",
        "url = \"https://raw.githubusercontent.com/analytics-club-iitm/Summer-School-2022/main/Task_1/data/data.csv\"\n",
        "download = requests.get(url).content\n",
        "df = pd.read_csv(io.StringIO(download.decode('utf-8')))\n",
        "print(df.head())"
      ],
      "metadata": {
        "colab": {
          "base_uri": "https://localhost:8080/"
        },
        "id": "cibYkchZGDas",
        "outputId": "f42fb75f-c8b0-43ee-fe9c-7a03f9a65c99"
      },
      "execution_count": 3,
      "outputs": [
        {
          "output_type": "stream",
          "name": "stdout",
          "text": [
            "   S.No    EmpID Emp Name        DOJ                 Designation Grade  \\\n",
            "0     1  XYZ2685     ABC1  22-Nov-10             Sales Executive    E1   \n",
            "1     2  XYZ2490     ABC2   5-Jul-10  Technical Services Officer    M2   \n",
            "2     3  XYZ2662     ABC3  20-Oct-10             Sales Executive    E1   \n",
            "3     4  XYZ1679     ABC4   1 May 08                  AM - Sales    M1   \n",
            "4     5  XYZ2378     ABC5   3 Mar 10            Sales Executive     E1   \n",
            "\n",
            "  Attrition        Location In Active Date  Tenure  Gender  Education  Age  \\\n",
            "0        Yes      Bhavnagar      26-May-12   1. 6   Female  Bachelors   27   \n",
            "1        Yes      Jayanagar       6-Apr-12   1. 9     Male        MBA   36   \n",
            "2        Yes         Indore       7-Apr-12   1. 5     Male  Bachelors   24   \n",
            "3        Yes  Admin Gujarat       3 Apr 12  3 .11     Male  Bachelors   33   \n",
            "4        Yes   Jagdishpuram      10 Apr 12   2 .1     Male  Bachelors   24   \n",
            "\n",
            "   Last Rating  Monthly Income Engagement Score (% Satisfaction)  \\\n",
            "0            4           25535                                2%   \n",
            "1            2           52155                               45%   \n",
            "2            4           26438                               18%   \n",
            "3            2           54311                               82%   \n",
            "4            4           26702                               49%   \n",
            "\n",
            "  Marital Status     Zone                                         Remarks  \n",
            "0       Divorced     West                         Issues with the Manager  \n",
            "1        Single     South  More Challenging Job Roles/ Higher designation  \n",
            "2       Divorced  CENTRAL                         Issues with the Manager  \n",
            "3        Single      West                                  Lack of Growth  \n",
            "4       Divorced    North                         Issues with the Manager  \n"
          ]
        }
      ]
    },
    {
      "cell_type": "code",
      "source": [
        "age = df[\"Age\"].tolist()"
      ],
      "metadata": {
        "id": "kmdZm8sEGocU"
      },
      "execution_count": null,
      "outputs": []
    },
    {
      "cell_type": "code",
      "source": [
        "import matplotlib.pyplot as plt\n",
        "\n",
        "plt.hist(age)\n",
        "plt.show() "
      ],
      "metadata": {
        "colab": {
          "base_uri": "https://localhost:8080/",
          "height": 267
        },
        "id": "hPUl-OPiEODM",
        "outputId": "fe187ded-de62-44f5-b5a0-f133a991ae22"
      },
      "execution_count": null,
      "outputs": [
        {
          "output_type": "display_data",
          "data": {
            "text/plain": [
              "<Figure size 432x288 with 1 Axes>"
            ],
            "image/png": "[encoded data removed]"
          },
          "metadata": {
            "needs_background": "light"
          }
        }
      ]
    },
    {
      "cell_type": "code",
      "source": [
        "zone = df[\"Zone\"].tolist()\n",
        "for i in range(len(zone)):\n",
        "  zone[i] = zone[i].lower()\n"
      ],
      "metadata": {
        "id": "ibON-fX6y3gd"
      },
      "execution_count": 6,
      "outputs": []
    },
    {
      "cell_type": "code",
      "source": [
        "import matplotlib.pyplot as plt\n",
        "\n",
        "plt.hist(zone)\n",
        "plt.show() "
      ],
      "metadata": {
        "colab": {
          "base_uri": "https://localhost:8080/",
          "height": 265
        },
        "id": "QmOE58tHzB2U",
        "outputId": "ac113f69-7399-4d87-d3e0-31c33e1cbbca"
      },
      "execution_count": 7,
      "outputs": [
        {
          "output_type": "display_data",
          "data": {
            "text/plain": [
              "<Figure size 432x288 with 1 Axes>"
            ],
            "image/png": "[encoded data removed]"
          },
          "metadata": {
            "needs_background": "light"
          }
        }
      ]
    },
    {
      "cell_type": "code",
      "source": [
        "ms = df[\"Marital Status\"].tolist()"
      ],
      "metadata": {
        "id": "rusSsPJ6z069"
      },
      "execution_count": 10,
      "outputs": []
    },
    {
      "cell_type": "code",
      "source": [
        "glist = [0, 0, 0]\n",
        "glabel = [\"Divorced\", \"Single\", \"Married\"]\n",
        "\n",
        "for i in range(len(ms)):\n",
        "  if ms[i] == \"Divorced\":\n",
        "    glist[0] += 1 \n",
        "  elif ms[i] == \"Single \":\n",
        "    glist[1] += 1\n",
        "  else:\n",
        "    glist[2] += 1\n",
        "\n",
        "\n",
        "m = glist\n",
        "labels1 = glabel"
      ],
      "metadata": {
        "id": "ER_CiIpEz6kf"
      },
      "execution_count": 18,
      "outputs": []
    },
    {
      "cell_type": "code",
      "source": [
        "import matplotlib.pyplot as plt\n",
        "import numpy as np\n",
        "\n",
        "plt.style.use('_mpl-gallery-nogrid')\n",
        "\n",
        "\n",
        "# make data\n",
        "colors = plt.get_cmap('Blues')(np.linspace(0.2, 0.7, len(m)))\n",
        "\n",
        "# plot\n",
        "fig, ax = plt.subplots()\n",
        "ax.pie(m, colors=colors, radius=3, center=(4, 4), labels = labels1,\n",
        "       wedgeprops={\"linewidth\": 1, \"edgecolor\": \"white\"}, frame=True)\n",
        "\n",
        "ax.set(xlim=(0, 8), xticks=np.arange(1, 8),\n",
        "       ylim=(0, 8), yticks=np.arange(1, 8))\n",
        "\n",
        "plt.show()"
      ],
      "metadata": {
        "colab": {
          "base_uri": "https://localhost:8080/",
          "height": 235
        },
        "id": "eS53Pf6O0cLg",
        "outputId": "43c6579f-2512-410d-a765-bc18a68b5b14"
      },
      "execution_count": 6,
      "outputs": [
        {
          "output_type": "error",
          "ename": "NameError",
          "evalue": "ignored",
          "traceback": [
            "\u001b[0;31m---------------------------------------------------------------------------\u001b[0m",
            "\u001b[0;31mNameError\u001b[0m                                 Traceback (most recent call last)",
            "\u001b[0;32m<ipython-input-6-813a6c7272b1>\u001b[0m in \u001b[0;36m<module>\u001b[0;34m\u001b[0m\n\u001b[1;32m      6\u001b[0m \u001b[0;34m\u001b[0m\u001b[0m\n\u001b[1;32m      7\u001b[0m \u001b[0;31m# make data\u001b[0m\u001b[0;34m\u001b[0m\u001b[0;34m\u001b[0m\u001b[0m\n\u001b[0;32m----> 8\u001b[0;31m \u001b[0mcolors\u001b[0m \u001b[0;34m=\u001b[0m \u001b[0mplt\u001b[0m\u001b[0;34m.\u001b[0m\u001b[0mget_cmap\u001b[0m\u001b[0;34m(\u001b[0m\u001b[0;34m'Blues'\u001b[0m\u001b[0;34m)\u001b[0m\u001b[0;34m(\u001b[0m\u001b[0mnp\u001b[0m\u001b[0;34m.\u001b[0m\u001b[0mlinspace\u001b[0m\u001b[0;34m(\u001b[0m\u001b[0;36m0.2\u001b[0m\u001b[0;34m,\u001b[0m \u001b[0;36m0.7\u001b[0m\u001b[0;34m,\u001b[0m \u001b[0mlen\u001b[0m\u001b[0;34m(\u001b[0m\u001b[0mm\u001b[0m\u001b[0;34m)\u001b[0m\u001b[0;34m)\u001b[0m\u001b[0;34m)\u001b[0m\u001b[0;34m\u001b[0m\u001b[0;34m\u001b[0m\u001b[0m\n\u001b[0m\u001b[1;32m      9\u001b[0m \u001b[0;34m\u001b[0m\u001b[0m\n\u001b[1;32m     10\u001b[0m \u001b[0;31m# plot\u001b[0m\u001b[0;34m\u001b[0m\u001b[0;34m\u001b[0m\u001b[0m\n",
            "\u001b[0;31mNameError\u001b[0m: name 'm' is not defined"
          ]
        }
      ]
    },
    {
      "cell_type": "code",
      "source": [
        "inc = df[\"Monthly Income\"].tolist()"
      ],
      "metadata": {
        "id": "tsKsbE0B1S9n"
      },
      "execution_count": 4,
      "outputs": []
    },
    {
      "cell_type": "code",
      "source": [
        "min(inc)"
      ],
      "metadata": {
        "colab": {
          "base_uri": "https://localhost:8080/"
        },
        "id": "DEvudajk5qnT",
        "outputId": "887e86ef-1608-4dc1-bf89-e4cbad8ebe1f"
      },
      "execution_count": 23,
      "outputs": [
        {
          "output_type": "execute_result",
          "data": {
            "text/plain": [
              "25010"
            ]
          },
          "metadata": {},
          "execution_count": 23
        }
      ]
    },
    {
      "cell_type": "code",
      "source": [
        "import matplotlib.pyplot as plt\n",
        "a = plt.hist(inc, bins = range(20000, 100000, 10000))\n",
        "#Low paid employees leave"
      ],
      "metadata": {
        "colab": {
          "base_uri": "https://localhost:8080/",
          "height": 186
        },
        "id": "4muTJz1774vA",
        "outputId": "b99b9c41-35c6-4910-a23b-ef27d032fe9d"
      },
      "execution_count": 9,
      "outputs": [
        {
          "output_type": "display_data",
          "data": {
            "text/plain": [
              "<Figure size 144x144 with 1 Axes>"
            ],
            "image/png": "[encoded data removed]"
          },
          "metadata": {
            "needs_background": "light"
          }
        }
      ]
    },
    {
      "cell_type": "code",
      "source": [
        "inc = df[\"Monthly Income\"].tolist()"
      ],
      "metadata": {
        "id": "LhdjC7fU85Xr"
      },
      "execution_count": null,
      "outputs": []
    },
    {
      "cell_type": "code",
      "source": [
        "bins = range(25000, 100000, 25000)\n",
        "plt.hist(inc)"
      ],
      "metadata": {
        "colab": {
          "base_uri": "https://localhost:8080/",
          "height": 255
        },
        "id": "04jylgTk5ieP",
        "outputId": "4a8c4392-0088-4740-df32-c4311ac4354f"
      },
      "execution_count": 29,
      "outputs": [
        {
          "output_type": "execute_result",
          "data": {
            "text/plain": [
              "(array([269.,  54.,   2.,   1.,   0.,   0.,   0.,   0.,   0.,   1.]),\n",
              " array([ 25010. ,  45904.4,  66798.8,  87693.2, 108587.6, 129482. ,\n",
              "        150376.4, 171270.8, 192165.2, 213059.6, 233954. ]),\n",
              " <BarContainer object of 10 artists>)"
            ]
          },
          "metadata": {},
          "execution_count": 29
        },
        {
          "output_type": "display_data",
          "data": {
            "text/plain": [
              "<Figure size 144x144 with 1 Axes>"
            ],
            "image/png": "[encoded data removed]"
          },
          "metadata": {
            "needs_background": "light"
          }
        }
      ]
    },
    {
      "cell_type": "code",
      "source": [
        "import matplotlib.pyplot as plt\n",
        "\n",
        "plt.hist(inc)\n",
        "plt.show() "
      ],
      "metadata": {
        "colab": {
          "base_uri": "https://localhost:8080/",
          "height": 186
        },
        "id": "RYBTUr9B1bCL",
        "outputId": "318cf942-da6b-44fc-fb72-fb9aeb76e0df"
      },
      "execution_count": 22,
      "outputs": [
        {
          "output_type": "display_data",
          "data": {
            "text/plain": [
              "<Figure size 144x144 with 1 Axes>"
            ],
            "image/png": "[encoded data removed]"
          },
          "metadata": {
            "needs_background": "light"
          }
        }
      ]
    },
    {
      "cell_type": "code",
      "source": [
        "lr = df[\"Last Rating\"].tolist()"
      ],
      "metadata": {
        "id": "sAmRfi3Z9DAU"
      },
      "execution_count": 10,
      "outputs": []
    },
    {
      "cell_type": "code",
      "source": [
        "import matplotlib.pyplot as plt\n",
        "\n",
        "plt.hist(lr)\n",
        "plt.show() "
      ],
      "metadata": {
        "colab": {
          "base_uri": "https://localhost:8080/",
          "height": 187
        },
        "id": "BAMKb_eD9M1L",
        "outputId": "c4304a01-a817-4ec2-9d7a-3a415e9458cd"
      },
      "execution_count": 11,
      "outputs": [
        {
          "output_type": "display_data",
          "data": {
            "text/plain": [
              "<Figure size 144x144 with 1 Axes>"
            ],
            "image/png": "[encoded data removed]"
          },
          "metadata": {
            "needs_background": "light"
          }
        }
      ]
    },
    {
      "cell_type": "code",
      "source": [
        "gender = df[\"Gender\"].tolist()"
      ],
      "metadata": {
        "id": "_HghJcshEOOv"
      },
      "execution_count": null,
      "outputs": []
    },
    {
      "cell_type": "code",
      "source": [
        "glist = [0, 0]\n",
        "glabel = [\"Male\", \"Female\"]\n",
        "\n",
        "for i in range(len(gender)):\n",
        "  if gender[i] == \"Male\":\n",
        "    glist[0] += 1 \n",
        "  else:\n",
        "    glist[1] += 1\n",
        "\n",
        "\n",
        "m = glist\n",
        "labels1 = glabel"
      ],
      "metadata": {
        "id": "dvVIo1haEoOC"
      },
      "execution_count": null,
      "outputs": []
    },
    {
      "cell_type": "code",
      "source": [
        "for i in range(len(age)):\n",
        "  if i > 40:\n",
        "    age[i] = 1\n",
        "  else:\n",
        "    age[i] = 0\n",
        "\n",
        "d = {}\n",
        "for i in age:\n",
        "  if i in d:\n",
        "    d[i]+= 1\n",
        "  else:\n",
        "    d[i] = 1\n",
        "\n",
        "m = list(d.values())\n",
        "labels1 = list(d.keys())"
      ],
      "metadata": {
        "id": "PVGV014OJVog"
      },
      "execution_count": null,
      "outputs": []
    },
    {
      "cell_type": "code",
      "execution_count": null,
      "metadata": {
        "colab": {
          "base_uri": "https://localhost:8080/",
          "height": 186
        },
        "id": "3hw7ORka4SXH",
        "outputId": "0c4f08f0-8d40-4142-b996-fd36ae0ceee5"
      },
      "outputs": [
        {
          "output_type": "display_data",
          "data": {
            "text/plain": [
              "<Figure size 144x144 with 1 Axes>"
            ],
            "image/png": "[encoded data removed]"
          },
          "metadata": {
            "needs_background": "light"
          }
        }
      ],
      "source": [
        "import matplotlib.pyplot as plt\n",
        "import numpy as np\n",
        "\n",
        "plt.style.use('_mpl-gallery-nogrid')\n",
        "\n",
        "\n",
        "# make data\n",
        "colors = plt.get_cmap('Blues')(np.linspace(0.2, 0.7, len(m)))\n",
        "\n",
        "# plot\n",
        "fig, ax = plt.subplots()\n",
        "ax.pie(m, colors=colors, radius=3, center=(4, 4), labels = labels1,\n",
        "       wedgeprops={\"linewidth\": 1, \"edgecolor\": \"white\"}, frame=True)\n",
        "\n",
        "ax.set(xlim=(0, 8), xticks=np.arange(1, 8),\n",
        "       ylim=(0, 8), yticks=np.arange(1, 8))\n",
        "\n",
        "plt.show()"
      ]
    },
    {
      "cell_type": "code",
      "source": [
        "import matplotlib.pyplot as plt\n",
        "import numpy as np\n",
        "\n",
        "plt.style.use('_mpl-gallery-nogrid')\n",
        "\n",
        "\n",
        "# make data\n",
        "colors = plt.get_cmap('Blues')(np.linspace(0.2, 0.7, len(m)))\n",
        "\n",
        "# plot\n",
        "fig, ax = plt.subplots()\n",
        "ax.pie(m, colors=colors, radius=3, center=(4, 4), labels = labels1,\n",
        "       wedgeprops={\"linewidth\": 1, \"edgecolor\": \"white\"}, frame=True)\n",
        "\n",
        "ax.set(xlim=(0, 8), xticks=np.arange(1, 8),\n",
        "       ylim=(0, 8), yticks=np.arange(1, 8))\n",
        "\n",
        "plt.show()"
      ],
      "metadata": {
        "id": "809ir7wVM7gr"
      },
      "execution_count": null,
      "outputs": []
    },
    {
      "cell_type": "code",
      "source": [],
      "metadata": {
        "id": "LiGrJ65PdYPq"
      },
      "execution_count": null,
      "outputs": []
    }
  ],
  "metadata": {
    "colab": {
      "provenance": [],
      "authorship_tag": "ABX9TyPr5KS5u/Y0cjmhg7MNHUSK",
      "include_colab_link": true
    },
    "kernelspec": {
      "display_name": "Python 3",
      "name": "python3"
    },
    "language_info": {
      "name": "python"
    }
  },
  "nbformat": 4,
  "nbformat_minor": 0
}